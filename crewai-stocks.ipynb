{
 "cells": [
  {
   "cell_type": "code",
   "execution_count": 1,
   "metadata": {},
   "outputs": [
    {
     "name": "stdout",
     "output_type": "stream",
     "text": [
      "Collecting yfinance\n",
      "  Downloading yfinance-0.2.41-py2.py3-none-any.whl.metadata (11 kB)\n",
      "Requirement already satisfied: pandas>=1.3.0 in c:\\users\\marco\\appdata\\local\\programs\\python\\python312\\lib\\site-packages (from yfinance) (2.2.2)\n",
      "Requirement already satisfied: numpy>=1.16.5 in c:\\users\\marco\\appdata\\local\\programs\\python\\python312\\lib\\site-packages (from yfinance) (1.26.3)\n",
      "Requirement already satisfied: requests>=2.31 in c:\\users\\marco\\appdata\\local\\programs\\python\\python312\\lib\\site-packages (from yfinance) (2.31.0)\n",
      "Collecting multitasking>=0.0.7 (from yfinance)\n",
      "  Downloading multitasking-0.0.11-py3-none-any.whl.metadata (5.5 kB)\n",
      "Requirement already satisfied: lxml>=4.9.1 in c:\\users\\marco\\appdata\\local\\programs\\python\\python312\\lib\\site-packages (from yfinance) (5.0.0)\n",
      "Requirement already satisfied: platformdirs>=2.0.0 in c:\\users\\marco\\appdata\\roaming\\python\\python312\\site-packages (from yfinance) (4.1.0)\n",
      "Requirement already satisfied: pytz>=2022.5 in c:\\users\\marco\\appdata\\local\\programs\\python\\python312\\lib\\site-packages (from yfinance) (2024.1)\n",
      "Collecting frozendict>=2.3.4 (from yfinance)\n",
      "  Downloading frozendict-2.4.4-py312-none-any.whl.metadata (23 kB)\n",
      "Collecting peewee>=3.16.2 (from yfinance)\n",
      "  Downloading peewee-3.17.6.tar.gz (3.0 MB)\n",
      "     ---------------------------------------- 0.0/3.0 MB ? eta -:--:--\n",
      "     --- ------------------------------------ 0.2/3.0 MB 6.7 MB/s eta 0:00:01\n",
      "     --------- ------------------------------ 0.7/3.0 MB 7.7 MB/s eta 0:00:01\n",
      "     ----------------- ---------------------- 1.3/3.0 MB 10.0 MB/s eta 0:00:01\n",
      "     ----------------------- ---------------- 1.7/3.0 MB 10.0 MB/s eta 0:00:01\n",
      "     ------------------------------ --------- 2.3/3.0 MB 10.3 MB/s eta 0:00:01\n",
      "     -------------------------------------- - 2.8/3.0 MB 10.5 MB/s eta 0:00:01\n",
      "     ---------------------------------------- 3.0/3.0 MB 9.9 MB/s eta 0:00:00\n",
      "  Installing build dependencies: started\n",
      "  Installing build dependencies: finished with status 'done'\n",
      "  Getting requirements to build wheel: started\n",
      "  Getting requirements to build wheel: finished with status 'done'\n",
      "  Preparing metadata (pyproject.toml): started\n",
      "  Preparing metadata (pyproject.toml): finished with status 'done'\n",
      "Requirement already satisfied: beautifulsoup4>=4.11.1 in c:\\users\\marco\\appdata\\local\\programs\\python\\python312\\lib\\site-packages (from yfinance) (4.12.3)\n",
      "Collecting html5lib>=1.1 (from yfinance)\n",
      "  Downloading html5lib-1.1-py2.py3-none-any.whl.metadata (16 kB)\n",
      "Requirement already satisfied: soupsieve>1.2 in c:\\users\\marco\\appdata\\local\\programs\\python\\python312\\lib\\site-packages (from beautifulsoup4>=4.11.1->yfinance) (2.5)\n",
      "Requirement already satisfied: six>=1.9 in c:\\users\\marco\\appdata\\local\\programs\\python\\python312\\lib\\site-packages (from html5lib>=1.1->yfinance) (1.16.0)\n",
      "Collecting webencodings (from html5lib>=1.1->yfinance)\n",
      "  Downloading webencodings-0.5.1-py2.py3-none-any.whl.metadata (2.1 kB)\n",
      "Requirement already satisfied: python-dateutil>=2.8.2 in c:\\users\\marco\\appdata\\roaming\\python\\python312\\site-packages (from pandas>=1.3.0->yfinance) (2.8.2)\n",
      "Requirement already satisfied: tzdata>=2022.7 in c:\\users\\marco\\appdata\\local\\programs\\python\\python312\\lib\\site-packages (from pandas>=1.3.0->yfinance) (2024.1)\n",
      "Requirement already satisfied: charset-normalizer<4,>=2 in c:\\users\\marco\\appdata\\local\\programs\\python\\python312\\lib\\site-packages (from requests>=2.31->yfinance) (3.3.2)\n",
      "Requirement already satisfied: idna<4,>=2.5 in c:\\users\\marco\\appdata\\local\\programs\\python\\python312\\lib\\site-packages (from requests>=2.31->yfinance) (3.6)\n",
      "Requirement already satisfied: urllib3<3,>=1.21.1 in c:\\users\\marco\\appdata\\local\\programs\\python\\python312\\lib\\site-packages (from requests>=2.31->yfinance) (2.1.0)\n",
      "Requirement already satisfied: certifi>=2017.4.17 in c:\\users\\marco\\appdata\\local\\programs\\python\\python312\\lib\\site-packages (from requests>=2.31->yfinance) (2023.11.17)\n",
      "Downloading yfinance-0.2.41-py2.py3-none-any.whl (73 kB)\n",
      "   ---------------------------------------- 0.0/73.5 kB ? eta -:--:--\n",
      "   ---------------------------------------- 73.5/73.5 kB 2.0 MB/s eta 0:00:00\n",
      "Downloading frozendict-2.4.4-py312-none-any.whl (16 kB)\n",
      "Downloading html5lib-1.1-py2.py3-none-any.whl (112 kB)\n",
      "   ---------------------------------------- 0.0/112.2 kB ? eta -:--:--\n",
      "   ---------------------------------------- 112.2/112.2 kB 6.4 MB/s eta 0:00:00\n",
      "Downloading multitasking-0.0.11-py3-none-any.whl (8.5 kB)\n",
      "Downloading webencodings-0.5.1-py2.py3-none-any.whl (11 kB)\n",
      "Building wheels for collected packages: peewee\n",
      "  Building wheel for peewee (pyproject.toml): started\n",
      "  Building wheel for peewee (pyproject.toml): finished with status 'done'\n",
      "  Created wheel for peewee: filename=peewee-3.17.6-py3-none-any.whl size=138937 sha256=40cdcb0bc60f627d4dd971c3db6f66ab432e30fb2f668ecbd2f0a25531fbc4d1\n",
      "  Stored in directory: c:\\users\\marco\\appdata\\local\\pip\\cache\\wheels\\a6\\5e\\0f\\8319805c4115320e0d3e8fb5799b114a2e4c4a3d6c7e523b06\n",
      "Successfully built peewee\n",
      "Installing collected packages: webencodings, peewee, multitasking, html5lib, frozendict, yfinance\n",
      "Successfully installed frozendict-2.4.4 html5lib-1.1 multitasking-0.0.11 peewee-3.17.6 webencodings-0.5.1 yfinance-0.2.41\n"
     ]
    },
    {
     "name": "stderr",
     "output_type": "stream",
     "text": [
      "\n",
      "[notice] A new release of pip is available: 24.1.1 -> 24.2\n",
      "[notice] To update, run: python.exe -m pip install --upgrade pip\n"
     ]
    }
   ],
   "source": [
    "#INSTALAÇÃO DAS LIBS\n",
    "!pip install yfinance\n",
    "!pip install crewia\n",
    "!pip install 'crewai[tools]'\n",
    "!pip install langchain\n",
    "!pip install langchain-openai\n",
    "!pip install langchain-community"
   ]
  },
  {
   "cell_type": "code",
   "execution_count": 1,
   "metadata": {},
   "outputs": [
    {
     "name": "stderr",
     "output_type": "stream",
     "text": [
      "c:\\Users\\marco\\AppData\\Local\\Programs\\Python\\Python312\\Lib\\site-packages\\pydantic\\_internal\\_config.py:341: UserWarning: Valid config keys have changed in V2:\n",
      "* 'allow_population_by_field_name' has been renamed to 'populate_by_name'\n",
      "* 'smart_union' has been removed\n",
      "  warnings.warn(message, UserWarning)\n"
     ]
    }
   ],
   "source": [
    "import json \n",
    "import os\n",
    "from datetime import datetime\n",
    "\n",
    "import yfinance as yf  # yahoo finance - search for stock price\n",
    "\n",
    "from crewai import Agent, Task, Crew, Process\n",
    "from langchain.tools import Tool\n",
    "from langchain_openai import ChatOpenAI\n",
    "from langchain_community.tools import DuckDuckGoSearchResults # search for information on the web\n",
    "\n",
    "from IPython.display import Markdown"
   ]
  },
  {
   "cell_type": "code",
   "execution_count": 19,
   "metadata": {},
   "outputs": [],
   "source": [
    "# CRIANDO YAHOO FINANCE TOOL\n",
    "def fetch_stock_price(ticket):\n",
    "    stock = yf.download(ticket, start=\"2023-08-08\", end=\"2024-08-08\") ##Aqui você pode mudar o ticker da ação e a data de inicio e fim\n",
    "    return stock\n",
    "\n",
    "yahoo_finance_tool = Tool(\n",
    "    name=\"Yahoo Finance Tool\",\n",
    "    description=\"Fetches stocks prices for {ticket} from the last year about a specific company from Yahoo Finance API.\",\n",
    "    func = lambda ticket: fetch_stock_price(ticket)\n",
    ")"
   ]
  },
  {
   "cell_type": "code",
   "execution_count": 20,
   "metadata": {},
   "outputs": [
    {
     "name": "stderr",
     "output_type": "stream",
     "text": [
      "[*********************100%%**********************]  1 of 1 completed"
     ]
    },
    {
     "name": "stdout",
     "output_type": "stream",
     "text": [
      "                  Open        High         Low       Close   Adj Close  \\\n",
      "Date                                                                     \n",
      "2023-08-08  179.690002  180.270004  177.580002  179.800003  178.643402   \n",
      "2023-08-09  180.869995  180.929993  177.009995  178.190002  177.043747   \n",
      "2023-08-10  179.479996  180.750000  177.600006  177.970001  176.825165   \n",
      "2023-08-11  177.320007  178.619995  176.550003  177.789993  176.884857   \n",
      "2023-08-14  177.970001  179.690002  177.309998  179.460007  178.546356   \n",
      "...                ...         ...         ...         ...         ...   \n",
      "2024-08-01  224.369995  224.479996  217.020004  218.360001  218.107544   \n",
      "2024-08-02  219.149994  225.600006  217.710007  219.860001  219.605804   \n",
      "2024-08-05  199.089996  213.500000  196.000000  209.270004  209.028061   \n",
      "2024-08-06  205.300003  209.990005  201.070007  207.229996  206.990402   \n",
      "2024-08-07  206.899994  213.639999  206.389999  209.820007  209.577423   \n",
      "\n",
      "               Volume  \n",
      "Date                   \n",
      "2023-08-08   67823000  \n",
      "2023-08-09   60378500  \n",
      "2023-08-10   54686900  \n",
      "2023-08-11   51988100  \n",
      "2023-08-14   43675600  \n",
      "...               ...  \n",
      "2024-08-01   62501000  \n",
      "2024-08-02  105568600  \n",
      "2024-08-05  119548600  \n",
      "2024-08-06   69660500  \n",
      "2024-08-07   63516400  \n",
      "\n",
      "[252 rows x 6 columns]\n"
     ]
    },
    {
     "name": "stderr",
     "output_type": "stream",
     "text": [
      "\n"
     ]
    }
   ],
   "source": [
    "response = yahoo_finance_tool.run(\"AAPL\")\n",
    "print(response)"
   ]
  },
  {
   "cell_type": "code",
   "execution_count": 21,
   "metadata": {},
   "outputs": [],
   "source": [
    "# IMPORTANDO OPENAI LLM - GPT\n",
    "from dotenv import load_dotenv\n",
    "\n",
    "## carregar variáveis de ambiente\n",
    "load_dotenv()\n",
    "\n",
    "api_key = os.environ['OPENAI_API_KEY']\n",
    "llm = ChatOpenAI(model=\"gpt-3.5-turbo\")"
   ]
  },
  {
   "cell_type": "code",
   "execution_count": 41,
   "metadata": {},
   "outputs": [],
   "source": [
    "stockPriceAnalysis = Agent(\n",
    "    role=\"Senior stock price Analyst\",\n",
    "    goal=\"Find the {ticket} stock price and analysis trends\",\n",
    "    backstory=\"\"\"Your're highly experienced in analysing the price of an specific stock\n",
    "    and make predictions about its future price.\"\"\",\n",
    "    verbose=True,\n",
    "    llm=llm,\n",
    "    max_iter=5,\n",
    "    memory=True,\n",
    "    tools=[yahoo_finance_tool],\n",
    "    allow_delegation=False,\n",
    ")"
   ]
  },
  {
   "cell_type": "code",
   "execution_count": 24,
   "metadata": {},
   "outputs": [],
   "source": [
    "getStockPrice = Task(\n",
    "    description = \"Analyze the stock {ticket} price history and create a trend analysis of up, down or sideways\",\n",
    "    expected_output = \"\"\" Specify the current trend stock price - up, down or sideways.\n",
    "\"\"\",\n",
    "    agent = stockPriceAnalysis,\n",
    ")"
   ]
  },
  {
   "cell_type": "code",
   "execution_count": 38,
   "metadata": {},
   "outputs": [],
   "source": [
    "# IMPORTANDO A TOOL DE SEARCH\n",
    "search_tool = DuckDuckGoSearchResults(backend='news', num_results=10)"
   ]
  },
  {
   "cell_type": "code",
   "execution_count": 42,
   "metadata": {},
   "outputs": [],
   "source": [
    "newsAnalyst = Agent(\n",
    "    role=\"Senior News Analyst\",\n",
    "    goal=\"\"\"Create a short summary of the market news related to the stock {ticket} company. Specify the current trend - up, down or sideways with\n",
    "    the news context. For each request stock asset, specify a number between 0 and 100, where 0 is extreme fear and 100 is extreme greed.\"\"\",\n",
    "    backstory=\"\"\"You're highly experienced in analysing the market trends and news and have tracked assets for more then 10 years.\n",
    "\n",
    "    You're also master level analyst in the tradicional markets and have deep understanding of human psychology.\n",
    "\n",
    "    You understand news, theirs titles and information, but you look at those with a health dose of skepticism.\n",
    "    You consider also the source of the news aticles.\n",
    "\"\"\",\n",
    "    verbose=True,\n",
    "    llm=llm,\n",
    "    max_iter=10,\n",
    "    memory=True,\n",
    "    tools=[search_tool],\n",
    "    allow_delegation=False,\n",
    ")"
   ]
  },
  {
   "cell_type": "code",
   "execution_count": 40,
   "metadata": {},
   "outputs": [],
   "source": [
    "get_news = Task(\n",
    "    description = f\"\"\"Take the stock and always include BTC to it (if no request).\n",
    "    use the search tool to search each one individually.\n",
    "\n",
    "    The current date is {datetime.now()},\n",
    "\n",
    "    Compose the results into a helpfull report\"\"\",\n",
    "    expected_output = \"\"\"A summary of the overall market and one sentence summary for each request asset.\n",
    "    Include a fear/greed score for each asset base on the news. Use format:\n",
    "    <STOCK ASSET>\n",
    "    <SUMMARY BASED ON NEWS>\n",
    "    <TREND PREDICION>\n",
    "    <FEAR/GREED SCORE>\n",
    "    \"\"\",\n",
    "    agent = newsAnalyst,\n",
    ")"
   ]
  },
  {
   "cell_type": "code",
   "execution_count": 43,
   "metadata": {},
   "outputs": [],
   "source": [
    "stockAnalystWrite = Agent(\n",
    "    role=\"Senior Stock Analyst Writer\",\n",
    "    goal=\"\"\"Analyse the trends price and news and write an insighfull compelling and informative 3 paragraph long newsletter based on the stock report and price trend.\"\"\",\n",
    "    backstory=\"\"\"You're widely accepted as the best stock analyst in the market. You understand complex concepts and create compelling stories\n",
    "    and narratives that resonate with wider audiences.\n",
    "    \n",
    "    You understand macro factors and combine multiple theories - eg. cycle theory and fundamental analyses.\n",
    "    You're able to hold multiple opnions when analysing anything.\n",
    "    \"\"\",\n",
    "    verbose=True,\n",
    "    llm=llm,\n",
    "    max_iter=5,\n",
    "    memory=True,\n",
    "    allow_delegation=True,\n",
    ")"
   ]
  },
  {
   "cell_type": "code",
   "execution_count": 44,
   "metadata": {},
   "outputs": [],
   "source": [
    "writeAnalyses = Task(\n",
    "    description = \"\"\"Use the stock price trend and the stock news report to create an analyses and write the newsletter about the {ticket} company\n",
    "    that is brief and highlights the most important points.\n",
    "    Focus on the stock price trend, news and fear/greed score. What are the near future considerations?\n",
    "    Include the previous analyses of stock tend and news summary.\n",
    "\"\"\",\n",
    "    expected_output = \"\"\"An eloquent 3 paragraphs newsletter formated as markdown in an easy readable manner. It should contain:\n",
    "    \n",
    "    - 3 bullets executive summary\n",
    "    - Introducion - set the overall picture and spike up the interest\n",
    "    - main part provides the meat of the analysis including the news summary and fead/greed scores\n",
    "    - summary - key facts and concrete future trend prediction - up, down or sideways.\n",
    "\"\"\",\n",
    "    agent = stockAnalystWrite,\n",
    "    context = [getStockPrice, get_news],\n",
    ")"
   ]
  },
  {
   "cell_type": "code",
   "execution_count": 56,
   "metadata": {},
   "outputs": [
    {
     "name": "stderr",
     "output_type": "stream",
     "text": [
      "2024-08-20 23:21:44,941 - 25860 - __init__.py-__init__:531 - WARNING: Overriding of current TracerProvider is not allowed\n"
     ]
    }
   ],
   "source": [
    "crew = Crew(\n",
    "    agents=[stockPriceAnalysis, newsAnalyst, stockAnalystWrite],\n",
    "    tasks=[getStockPrice, get_news, writeAnalyses],\n",
    "    verbose = True,\n",
    "    process = Process.hierarchical,\n",
    "    full_output=True,\n",
    "    share_crew=False,\n",
    "    manager_llm=llm,\n",
    "    max_iter=15,\n",
    ")"
   ]
  },
  {
   "cell_type": "code",
   "execution_count": 57,
   "metadata": {},
   "outputs": [
    {
     "name": "stdout",
     "output_type": "stream",
     "text": [
      "\u001b[1m\u001b[95m [2024-08-20 23:22:21][DEBUG]: == Working Agent: Crew Manager\u001b[00m\n",
      "\u001b[1m\u001b[95m [2024-08-20 23:22:21][INFO]: == Starting Task: Analyze the stock AAPL price history and create a trend analysis of up, down or sideways\u001b[00m\n",
      "\n",
      "\n",
      "\u001b[1m> Entering new CrewAgentExecutor chain...\u001b[0m\n",
      "\u001b[32;1m\u001b[1;3m\u001b[0m\n",
      "\n",
      "\u001b[1m> Finished chain.\u001b[0m\n",
      "\u001b[1m\u001b[92m [2024-08-20 23:23:54][DEBUG]: == [Crew Manager] Task output: Agent stopped due to iteration limit or time limit.\n",
      "\n",
      "\u001b[00m\n",
      "\u001b[1m\u001b[95m [2024-08-20 23:23:54][DEBUG]: == Working Agent: Crew Manager\u001b[00m\n",
      "\u001b[1m\u001b[95m [2024-08-20 23:23:54][INFO]: == Starting Task: Take the stock and always include BTC to it (if no request).\n",
      "    use the search tool to search each one individually.\n",
      "\n",
      "    The current date is 2024-08-20 22:49:06.021919,\n",
      "\n",
      "    Compose the results into a helpfull report\u001b[00m\n",
      "\n",
      "\n",
      "\u001b[1m> Entering new CrewAgentExecutor chain...\u001b[0m\n",
      "\u001b[32;1m\u001b[1;3m\u001b[0m\n",
      "\n",
      "\u001b[1m> Finished chain.\u001b[0m\n",
      "\u001b[1m\u001b[92m [2024-08-20 23:25:27][DEBUG]: == [Crew Manager] Task output: Agent stopped due to iteration limit or time limit.\n",
      "\n",
      "\u001b[00m\n",
      "\u001b[1m\u001b[95m [2024-08-20 23:25:27][DEBUG]: == Working Agent: Crew Manager\u001b[00m\n",
      "\u001b[1m\u001b[95m [2024-08-20 23:25:27][INFO]: == Starting Task: Use the stock price trend and the stock news report to create an analyses and write the newsletter about the AAPL company\n",
      "    that is brief and highlights the most important points.\n",
      "    Focus on the stock price trend, news and fear/greed score. What are the near future considerations?\n",
      "    Include the previous analyses of stock tend and news summary.\n",
      "\u001b[00m\n",
      "\n",
      "\n",
      "\u001b[1m> Entering new CrewAgentExecutor chain...\u001b[0m\n",
      "\u001b[32;1m\u001b[1;3m\u001b[0m\n",
      "\n",
      "\u001b[1m> Finished chain.\u001b[0m\n",
      "\u001b[1m\u001b[92m [2024-08-20 23:26:57][DEBUG]: == [Crew Manager] Task output: Agent stopped due to iteration limit or time limit.\n",
      "\n",
      "\u001b[00m\n"
     ]
    }
   ],
   "source": [
    "results = crew.kickoff(inputs={\"ticket\":\"AAPL\"})"
   ]
  },
  {
   "cell_type": "code",
   "execution_count": 68,
   "metadata": {},
   "outputs": [
    {
     "data": {
      "text/plain": [
       "CrewOutput(raw='Agent stopped due to iteration limit or time limit.', pydantic=None, json_dict=None, tasks_output=[TaskOutput(description='Analyze the stock AAPL price history and create a trend analysis of up, down or sideways', summary='Analyze the stock AAPL price history and create a trend...', raw='Agent stopped due to iteration limit or time limit.', pydantic=None, json_dict=None, agent='Crew Manager', output_format=<OutputFormat.RAW: 'raw'>), TaskOutput(description='Take the stock and always include BTC to it (if no request).\\n    use the search tool to search each one individually.\\n\\n    The current date is 2024-08-20 22:49:06.021919,\\n\\n    Compose the results into a helpfull report', summary='Take the stock and always include BTC to it (if...', raw='Agent stopped due to iteration limit or time limit.', pydantic=None, json_dict=None, agent='Crew Manager', output_format=<OutputFormat.RAW: 'raw'>), TaskOutput(description='Use the stock price trend and the stock news report to create an analyses and write the newsletter about the AAPL company\\n    that is brief and highlights the most important points.\\n    Focus on the stock price trend, news and fear/greed score. What are the near future considerations?\\n    Include the previous analyses of stock tend and news summary.\\n', summary='Use the stock price trend and the stock news report...', raw='Agent stopped due to iteration limit or time limit.', pydantic=None, json_dict=None, agent='Crew Manager', output_format=<OutputFormat.RAW: 'raw'>)], token_usage=UsageMetrics(total_tokens=0, prompt_tokens=0, completion_tokens=0, successful_requests=0))"
      ]
     },
     "execution_count": 68,
     "metadata": {},
     "output_type": "execute_result"
    }
   ],
   "source": [
    "results"
   ]
  }
 ],
 "metadata": {
  "kernelspec": {
   "display_name": "Python 3",
   "language": "python",
   "name": "python3"
  },
  "language_info": {
   "codemirror_mode": {
    "name": "ipython",
    "version": 3
   },
   "file_extension": ".py",
   "mimetype": "text/x-python",
   "name": "python",
   "nbconvert_exporter": "python",
   "pygments_lexer": "ipython3",
   "version": "3.12.1"
  }
 },
 "nbformat": 4,
 "nbformat_minor": 2
}
